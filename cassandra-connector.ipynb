{
 "cells": [
  {
   "cell_type": "code",
   "execution_count": 4,
   "metadata": {},
   "outputs": [
    {
     "name": "stdout",
     "output_type": "stream",
     "text": [
      "3.26.0\n"
     ]
    }
   ],
   "source": [
    "import cassandra\n",
    "print(cassandra.__version__)"
   ]
  },
  {
   "cell_type": "code",
   "execution_count": 7,
   "metadata": {},
   "outputs": [
    {
     "name": "stdout",
     "output_type": "stream",
     "text": [
      "4.0.0.6816\n"
     ]
    }
   ],
   "source": [
    "from cassandra.cluster import Cluster\n",
    "from cassandra.auth import PlainTextAuthProvider\n",
    "\n",
    "cloud_config = {\n",
    "    'secure_connect_bundle': r'C:\\Users\\Azhar\\Desktop\\Spark Streaming\\secure-connect-spark-streaming.zip'\n",
    "}\n",
    "auth_provider = PlainTextAuthProvider('nfdAilQwuGEZGIrXXNakkdEb', '.O37e_xTeZZXi+UQZrM8IH29pdbSXDj6LgCPiJ3+E8Dla0nX+bQMgHBO4tka71rPXEREt,o_rwUjYJBBFsERMk04fGW6vmX+U7rUvCpUBaef2r,ZZlaWzHOCvGFZ0Mek')\n",
    "cluster = Cluster(cloud=cloud_config, auth_provider=auth_provider)\n",
    "session = cluster.connect()\n",
    "\n",
    "result = session.execute(\"select release_version from system.local\")\n",
    "\n",
    "row = result.one()\n",
    "\n",
    "if row:\n",
    "    print(row[0])\n",
    "else:\n",
    "    print(\"An error occurred.\")\n"
   ]
  },
  {
   "cell_type": "code",
   "execution_count": 8,
   "metadata": {},
   "outputs": [
    {
     "name": "stdout",
     "output_type": "stream",
     "text": [
      "Inside the orders_data\n"
     ]
    }
   ],
   "source": [
    "# Command to use a keyspace\n",
    "try:\n",
    "    query = \"use orders_data\"\n",
    "    session.execute(query)\n",
    "    print(\"Inside the orders_data\")\n",
    "except Exception as err:\n",
    "    print(\"Exception Occured while using Keyspace : \",err)"
   ]
  },
  {
   "cell_type": "code",
   "execution_count": 11,
   "metadata": {},
   "outputs": [
    {
     "name": "stdout",
     "output_type": "stream",
     "text": [
      "Table created inside the keyspace\n"
     ]
    }
   ],
   "source": [
    "try:\n",
    "    query = \"\"\"CREATE TABLE orders_data (\n",
    "                order_id INT,\n",
    "                customer_id INT,\n",
    "                item_id INT,\n",
    "                order_date TIMESTAMP,\n",
    "                item_value INT,\n",
    "                quantity INT,\n",
    "                total_amount INT,\n",
    "                PRIMARY KEY (order_id)\n",
    "              )\n",
    "            \"\"\"\n",
    "    session.execute(query)\n",
    "    print(\"Table created inside the keyspace\")\n",
    "except Exception as err:\n",
    "    print(\"Exception Occurred while creating the table:\", err)\n"
   ]
  },
  {
   "cell_type": "code",
   "execution_count": null,
   "metadata": {},
   "outputs": [],
   "source": []
  },
  {
   "cell_type": "code",
   "execution_count": null,
   "metadata": {},
   "outputs": [],
   "source": []
  },
  {
   "cell_type": "code",
   "execution_count": null,
   "metadata": {},
   "outputs": [],
   "source": []
  },
  {
   "cell_type": "code",
   "execution_count": null,
   "metadata": {},
   "outputs": [],
   "source": []
  },
  {
   "cell_type": "code",
   "execution_count": null,
   "metadata": {},
   "outputs": [],
   "source": []
  },
  {
   "cell_type": "code",
   "execution_count": null,
   "metadata": {},
   "outputs": [],
   "source": []
  },
  {
   "cell_type": "code",
   "execution_count": null,
   "metadata": {},
   "outputs": [],
   "source": []
  },
  {
   "cell_type": "code",
   "execution_count": null,
   "metadata": {},
   "outputs": [],
   "source": []
  }
 ],
 "metadata": {
  "kernelspec": {
   "display_name": "Python 3",
   "language": "python",
   "name": "python3"
  },
  "language_info": {
   "codemirror_mode": {
    "name": "ipython",
    "version": 3
   },
   "file_extension": ".py",
   "mimetype": "text/x-python",
   "name": "python",
   "nbconvert_exporter": "python",
   "pygments_lexer": "ipython3",
   "version": "3.10.11"
  },
  "orig_nbformat": 4
 },
 "nbformat": 4,
 "nbformat_minor": 2
}
